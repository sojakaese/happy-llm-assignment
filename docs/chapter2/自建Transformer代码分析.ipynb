{
 "cells": [
  {
   "cell_type": "markdown",
   "id": "094a32ef",
   "metadata": {},
   "source": [
    "# 自建 Transformer 代码分析"
   ]
  },
  {
   "cell_type": "markdown",
   "id": "857d5233",
   "metadata": {},
   "source": []
  },
  {
   "cell_type": "code",
   "execution_count": null,
   "id": "bcbb4e59",
   "metadata": {},
   "outputs": [
    {
     "ename": "",
     "evalue": "",
     "output_type": "error",
     "traceback": [
      "\u001b[1;31mRunning cells with '.venv (Python 3.12.9)' requires the ipykernel package.\n",
      "\u001b[1;31mInstall 'ipykernel' into the Python environment. \n",
      "\u001b[1;31mCommand: 'c:/git/happy-llm-assignment/.venv/Scripts/python.exe -m pip install ipykernel -U --force-reinstall'"
     ]
    }
   ],
   "source": [
    "# 导入库\n",
    "import torch\n",
    "import math\n",
    "from torch import nn\n",
    "from dataclasses import dataclass\n",
    "from transformers import BertTokenizer\n",
    "import torch.nn.functional as F"
   ]
  },
  {
   "cell_type": "markdown",
   "id": "0505320c",
   "metadata": {},
   "source": [
    "## 先建立个模型参数 ModelArgs"
   ]
  },
  {
   "cell_type": "code",
   "execution_count": null,
   "id": "437d2a09",
   "metadata": {},
   "outputs": [],
   "source": [
    "@dataclass\n",
    "class ModelArgs:\n",
    "    n_embd: int   # 嵌入维度 (100)\n",
    "    n_heads: int   # 注意力头数 (10)\n",
    "    dim: int       # 模型维度 (100)\n",
    "    dropout: float # Dropout率 (0.1)\n",
    "    max_seq_len: int  # 最大序列长度 (512)\n",
    "    vocab_size: int   # 词表大小 (初始1000，后被覆盖)\n",
    "    block_size: int   # 位置编码最大长度 (1000)\n",
    "    n_layer: int      # Encoder/Decoder层数 (2)"
   ]
  },
  {
   "cell_type": "markdown",
   "id": "8d625c36",
   "metadata": {},
   "source": [
    "## 定义多头Attention机制"
   ]
  },
  {
   "cell_type": "code",
   "execution_count": null,
   "id": "0a857411",
   "metadata": {},
   "outputs": [],
   "source": [
    "class MultiHeadAttention(nn.Module):\n",
    "\n",
    "    def __init__(self, args: ModelArgs, is_causal=False):\n",
    "        # 构造函数\n",
    "        # args: 配置对象\n",
    "        super().__init__()\n",
    "        # 隐藏层维度必须是头数的整数倍，因为后面我们会将输入拆成头数个矩阵\n",
    "        assert args.dim % args.n_heads == 0\n",
    "        # 模型并行处理大小，默认为1。\n",
    "        model_parallel_size = 1\n",
    "        # 本地计算头数，等于总头数除以模型并行处理大小。\n",
    "        self.n_local_heads = args.n_heads // model_parallel_size\n",
    "        # 每个头的维度，等于模型维度除以头的总数。\n",
    "        self.head_dim = args.dim // args.n_heads\n",
    "\n",
    "        # Wq, Wk, Wv 参数矩阵，每个参数矩阵为 n_embd x n_embd\n",
    "        # 这里通过三个组合矩阵来代替了n个参数矩阵的组合，其逻辑在于矩阵内积再拼接其实等同于拼接矩阵再内积，\n",
    "        # 不理解的读者可以自行模拟一下，每一个线性层其实相当于n个参数矩阵的拼接\n",
    "        self.wq = nn.Linear(args.n_embd, args.n_heads * self.head_dim, bias=False)\n",
    "        self.wk = nn.Linear(args.n_embd, args.n_heads * self.head_dim, bias=False)\n",
    "        self.wv = nn.Linear(args.n_embd, args.n_heads * self.head_dim, bias=False)\n",
    "        # 输出权重矩阵，维度为 dim x n_embd（head_dim = n_embeds / n_heads）\n",
    "        self.wo = nn.Linear(args.n_heads * self.head_dim, args.dim, bias=False)\n",
    "        # 注意力的 dropout\n",
    "        self.attn_dropout = nn.Dropout(args.dropout)\n",
    "        # 残差连接的 dropout\n",
    "        self.resid_dropout = nn.Dropout(args.dropout)\n",
    "        self.is_causal = is_causal\n",
    "\n",
    "        # 创建一个上三角矩阵，用于遮蔽未来信息\n",
    "        # 注意，因为是多头注意力，Mask 矩阵比之前我们定义的多一个维度\n",
    "        if is_causal:\n",
    "            mask = torch.full((1, 1, args.max_seq_len, args.max_seq_len), float(\"-inf\"))\n",
    "            mask = torch.triu(mask, diagonal=1)\n",
    "            # 注册为模型的缓冲区\n",
    "            self.register_buffer(\"mask\", mask)\n",
    "\n",
    "    def forward(self, q: torch.Tensor, k: torch.Tensor, v: torch.Tensor):\n",
    "\n",
    "        # 获取批次大小和序列长度，[batch_size, seq_len, dim]\n",
    "        bsz, seqlen, _ = q.shape\n",
    "\n",
    "        # 计算查询（Q）、键（K）、值（V）,输入通过参数矩阵层，维度为 (B, T, n_embed) x (n_embed, n_embed) -> (B, T, n_embed)\n",
    "        xq, xk, xv = self.wq(q), self.wk(k), self.wv(v)\n",
    "\n",
    "        # 将 Q、K、V 拆分成多头，维度为 (B, T, n_head, C // n_head)，然后交换维度，变成 (B, n_head, T, C // n_head)\n",
    "        # 因为在注意力计算中我们是取了后两个维度参与计算\n",
    "        # 为什么要先按B*T*n_head*C//n_head展开再互换1、2维度而不是直接按注意力输入展开，是因为view的展开方式是直接把输入全部排开，\n",
    "        # 然后按要求构造，可以发现只有上述操作能够实现我们将每个头对应部分取出来的目标\n",
    "        xq = xq.view(bsz, seqlen, self.n_local_heads, self.head_dim)\n",
    "        xk = xk.view(bsz, seqlen, self.n_local_heads, self.head_dim)\n",
    "        xv = xv.view(bsz, seqlen, self.n_local_heads, self.head_dim)\n",
    "        xq = xq.transpose(1, 2)\n",
    "        xk = xk.transpose(1, 2)\n",
    "        xv = xv.transpose(1, 2)\n",
    "\n",
    "        # 注意力计算\n",
    "        # 计算 QK^T / sqrt(d_k)，维度为 (B, nh, T, hs) x (B, nh, hs, T) -> (B, nh, T, T)\n",
    "        scores = torch.matmul(xq, xk.transpose(2, 3)) / math.sqrt(self.head_dim)\n",
    "        # 掩码自注意力必须有注意力掩码\n",
    "        if self.is_causal:\n",
    "            assert hasattr(self, 'mask')\n",
    "            # 这里截取到序列长度，因为有些序列可能比 max_seq_len 短\n",
    "            scores = scores + self.mask[:, :, :seqlen, :seqlen]\n",
    "        # 计算 softmax，维度为 (B, nh, T, T)\n",
    "        scores = F.softmax(scores.float(), dim=-1).type_as(xq)\n",
    "        # 做 Dropout\n",
    "        scores = self.attn_dropout(scores)\n",
    "        # V * Score，维度为(B, nh, T, T) x (B, nh, T, hs) -> (B, nh, T, hs)\n",
    "        output = torch.matmul(scores, xv)\n",
    "\n",
    "        # 恢复时间维度并合并头。\n",
    "        # 将多头的结果拼接起来, 先交换维度为 (B, T, n_head, C // n_head)，再拼接成 (B, T, n_head * C // n_head)\n",
    "        # contiguous 函数用于重新开辟一块新内存存储，因为Pytorch设置先transpose再view会报错，\n",
    "        # 因为view直接基于底层存储得到，然而transpose并不会改变底层存储，因此需要额外存储\n",
    "        output = output.transpose(1, 2).contiguous().view(bsz, seqlen, -1)\n",
    "\n",
    "        # 最终投影回残差流。\n",
    "        output = self.wo(output)\n",
    "        output = self.resid_dropout(output)\n",
    "        return output"
   ]
  },
  {
   "cell_type": "markdown",
   "id": "572ae12f",
   "metadata": {},
   "source": [
    "## 层归一化机制"
   ]
  },
  {
   "cell_type": "code",
   "execution_count": null,
   "id": "77843669",
   "metadata": {},
   "outputs": [],
   "source": [
    "class LayerNorm(nn.Module):\n",
    "    ''' Layer Norm 层'''\n",
    "    def __init__(self, features, eps=1e-6):\n",
    "        super(LayerNorm, self).__init__()\n",
    "        # 线性矩阵做映射\n",
    "        self.a_2 = nn.Parameter(torch.ones(features))\n",
    "        self.b_2 = nn.Parameter(torch.zeros(features))\n",
    "        self.eps = eps\n",
    "        \n",
    "    def forward(self, x):\n",
    "        # 在统计每个样本所有维度的值，求均值和方差\n",
    "        mean = x.mean(-1, keepdim=True) # mean: [bsz, max_len, 1]\n",
    "        std = x.std(-1, keepdim=True) # std: [bsz, max_len, 1]\n",
    "        # 注意这里也在最后一个维度发生了广播\n",
    "        return self.a_2 * (x - mean) / (std + self.eps) + self.b_2"
   ]
  },
  {
   "cell_type": "markdown",
   "id": "31f0e169",
   "metadata": {},
   "source": [
    "##  建立前馈神经网络Forwardfeed Neurual Network"
   ]
  },
  {
   "cell_type": "code",
   "execution_count": null,
   "id": "e535cdfc",
   "metadata": {},
   "outputs": [],
   "source": [
    "class MLP(nn.Module):\n",
    "    '''前馈神经网络'''\n",
    "    def __init__(self, dim: int, hidden_dim: int, dropout: float):\n",
    "        super().__init__()\n",
    "        # 定义第一层线性变换，从输入维度到隐藏维度\n",
    "        self.w1 = nn.Linear(dim, hidden_dim, bias=False)\n",
    "        # 定义第二层线性变换，从隐藏维度到输入维度\n",
    "        self.w2 = nn.Linear(hidden_dim, dim, bias=False)\n",
    "        # 定义dropout层，用于防止过拟合\n",
    "        self.dropout = nn.Dropout(dropout)\n",
    "\n",
    "    def forward(self, x):\n",
    "        # 前向传播函数\n",
    "        # 首先，输入x通过第一层线性变换和RELU激活函数\n",
    "        # 然后，结果乘以输入x通过第三层线性变换的结果\n",
    "        # 最后，通过第二层线性变换和dropout层\n",
    "        return self.dropout(self.w2(F.relu(self.w1(x))))"
   ]
  },
  {
   "cell_type": "markdown",
   "id": "2291481f",
   "metadata": {},
   "source": [
    "## 建立 Encoder Layer"
   ]
  },
  {
   "cell_type": "code",
   "execution_count": null,
   "id": "63d5df93",
   "metadata": {},
   "outputs": [],
   "source": [
    "class EncoderLayer(nn.Module):\n",
    "    def __init__(self, args):\n",
    "        super().__init__()\n",
    "        # 一个 Layer 中有两个 LayerNorm，分别在 Attention 之前和 MLP 之前\n",
    "        self.attention_norm = LayerNorm(args.n_embd)\n",
    "        # Encoder 不需要掩码，传入 is_causal=False\n",
    "        self.attention = MultiHeadAttention(args, is_causal=False)\n",
    "        self.fnn_norm = LayerNorm(args.n_embd)\n",
    "        self.feed_forward = MLP(args.dim, args.dim, args.dropout)\n",
    "\n",
    "    def forward(self, x):\n",
    "        # Layer Norm\n",
    "        x = self.attention_norm(x)\n",
    "        # 自注意力\n",
    "        h = x + self.attention.forward(x, x, x)\n",
    "        # 经过前馈神经网络\n",
    "        out = h + self.feed_forward.forward(self.fnn_norm(h))\n",
    "        return out"
   ]
  },
  {
   "cell_type": "markdown",
   "id": "a58c9633",
   "metadata": {},
   "source": [
    "## 以Encoder Layer为核心建立Encoder"
   ]
  },
  {
   "cell_type": "code",
   "execution_count": null,
   "id": "869545f6",
   "metadata": {},
   "outputs": [],
   "source": [
    "class Encoder(nn.Module):\n",
    "    '''Encoder 块'''\n",
    "    def __init__(self, args):\n",
    "        super(Encoder, self).__init__() \n",
    "        # 一个 Encoder 由 N 个 Encoder Layer 组成\n",
    "        self.layers = nn.ModuleList([EncoderLayer(args) for _ in range(args.n_layer)])\n",
    "        self.norm = LayerNorm(args.n_embd)\n",
    "\n",
    "    def forward(self, x):\n",
    "        \"分别通过 N 层 Encoder Layer\"\n",
    "        for layer in self.layers:\n",
    "            x = layer(x)\n",
    "        return self.norm(x)"
   ]
  },
  {
   "cell_type": "markdown",
   "id": "5f845f02",
   "metadata": {},
   "source": [
    "## 建立 Decoder Layer"
   ]
  },
  {
   "cell_type": "code",
   "execution_count": null,
   "id": "3888cb8a",
   "metadata": {},
   "outputs": [],
   "source": [
    "class DecoderLayer(nn.Module):\n",
    "    '''Decoder 层'''\n",
    "    def __init__(self, args):\n",
    "        super().__init__()\n",
    "        # 一个 Layer 中有三个 LayerNorm，分别在 Mask Attention 之前、Self Attention 之前和 MLP 之前\n",
    "        self.attention_norm_1 = LayerNorm(args.n_embd)\n",
    "        # Decoder 的第一个部分是 Mask Attention，传入 is_causal=True\n",
    "        self.mask_attention = MultiHeadAttention(args, is_causal=True)\n",
    "        self.attention_norm_2 = LayerNorm(args.n_embd)\n",
    "        # Decoder 的第二个部分是 类似于 Encoder 的 Attention，传入 is_causal=False\n",
    "        self.attention = MultiHeadAttention(args, is_causal=False)\n",
    "        self.ffn_norm = LayerNorm(args.n_embd)\n",
    "        # 第三个部分是 MLP\n",
    "        self.feed_forward = MLP(args.dim, args.dim, args.dropout)\n",
    "\n",
    "    def forward(self, x, enc_out):\n",
    "        # Layer Norm\n",
    "        x = self.attention_norm_1(x)\n",
    "        # 掩码自注意力\n",
    "        x = x + self.mask_attention.forward(x, x, x)\n",
    "        # 多头注意力\n",
    "        x = self.attention_norm_2(x)\n",
    "        h = x + self.attention.forward(x, enc_out, enc_out)\n",
    "        # 经过前馈神经网络\n",
    "        out = h + self.feed_forward.forward(self.ffn_norm(h))\n",
    "        return out"
   ]
  },
  {
   "cell_type": "markdown",
   "id": "6560c466",
   "metadata": {},
   "source": [
    "## 以Decoder Layer为核心建立Decoder"
   ]
  },
  {
   "cell_type": "code",
   "execution_count": null,
   "id": "4f6fb007",
   "metadata": {},
   "outputs": [],
   "source": [
    "class Decoder(nn.Module):\n",
    "    '''解码器'''\n",
    "    def __init__(self, args):\n",
    "        super(Decoder, self).__init__() \n",
    "        # 一个 Decoder 由 N 个 Decoder Layer 组成\n",
    "        self.layers = nn.ModuleList([DecoderLayer(args) for _ in range(args.n_layer)])\n",
    "        self.norm = LayerNorm(args.n_embd)\n",
    "\n",
    "    def forward(self, x, enc_out):\n",
    "        \"Pass the input (and mask) through each layer in turn.\"\n",
    "        for layer in self.layers:\n",
    "            x = layer(x, enc_out)\n",
    "        return self.norm(x)\n"
   ]
  },
  {
   "cell_type": "markdown",
   "id": "e4ac73c3",
   "metadata": {},
   "source": [
    "## 位置编码模块"
   ]
  },
  {
   "cell_type": "code",
   "execution_count": null,
   "id": "046fe94f",
   "metadata": {},
   "outputs": [],
   "source": [
    "class PositionalEncoding(nn.Module):\n",
    "    '''位置编码模块'''\n",
    "\n",
    "    def __init__(self, args):\n",
    "        super(PositionalEncoding, self).__init__()\n",
    "        # Dropout 层\n",
    "        self.dropout = nn.Dropout(p=args.dropout)\n",
    "\n",
    "        # block size 是序列的最大长度\n",
    "        pe = torch.zeros(args.block_size, args.n_embd)\n",
    "        position = torch.arange(0, args.block_size).unsqueeze(1)\n",
    "        # 计算 theta\n",
    "        div_term = torch.exp(\n",
    "            torch.arange(0, args.n_embd, 2) * -(math.log(10000.0) / args.n_embd)\n",
    "        )\n",
    "        # 分别计算 sin、cos 结果\n",
    "        pe[:, 0::2] = torch.sin(position * div_term)\n",
    "        pe[:, 1::2] = torch.cos(position * div_term)\n",
    "        pe = pe.unsqueeze(0)\n",
    "        self.register_buffer(\"pe\", pe)\n",
    "\n",
    "    def forward(self, x):\n",
    "        # 将位置编码加到 Embedding 结果上\n",
    "        x = x + self.pe[:, : x.size(1)].requires_grad_(False)\n",
    "        return self.dropout(x)"
   ]
  },
  {
   "cell_type": "markdown",
   "id": "ff379d01",
   "metadata": {},
   "source": [
    "## Transformer 本体"
   ]
  },
  {
   "cell_type": "code",
   "execution_count": null,
   "id": "f427aa07",
   "metadata": {},
   "outputs": [],
   "source": [
    "class Transformer(nn.Module):\n",
    "    '''整体模型'''\n",
    "\n",
    "    def __init__(self, args):\n",
    "        super().__init__()\n",
    "        # 必须输入词表大小和 block size\n",
    "        assert args.vocab_size is not None\n",
    "        assert args.block_size is not None\n",
    "        self.args = args\n",
    "        self.transformer = nn.ModuleDict(dict(\n",
    "            wte=nn.Embedding(args.vocab_size, args.n_embd),\n",
    "            wpe=PositionalEncoding(args),\n",
    "            drop=nn.Dropout(args.dropout),\n",
    "            encoder=Encoder(args),\n",
    "            decoder=Decoder(args),\n",
    "        ))\n",
    "        # 最后的线性层，输入是 n_embd，输出是词表大小\n",
    "        self.lm_head = nn.Linear(args.n_embd, args.vocab_size, bias=False)\n",
    "\n",
    "        # 初始化所有的权重\n",
    "        self.apply(self._init_weights)\n",
    "\n",
    "        # 查看所有参数的数量\n",
    "        print(\"number of parameters: %.2fM\" % (self.get_num_params() / 1e6,))\n",
    "\n",
    "    '''统计所有参数的数量'''\n",
    "\n",
    "    def get_num_params(self, non_embedding=False):\n",
    "        # non_embedding: 是否统计 embedding 的参数\n",
    "        n_params = sum(p.numel() for p in self.parameters())\n",
    "        # 如果不统计 embedding 的参数，就减去\n",
    "        if non_embedding:\n",
    "            n_params -= self.transformer.wpe.weight.numel()\n",
    "        return n_params\n",
    "\n",
    "    '''初始化权重'''\n",
    "\n",
    "    def _init_weights(self, module):\n",
    "        # 线性层和 Embedding 层初始化为正则分布\n",
    "        if isinstance(module, nn.Linear):\n",
    "            torch.nn.init.normal_(module.weight, mean=0.0, std=0.02)\n",
    "            if module.bias is not None:\n",
    "                torch.nn.init.zeros_(module.bias)\n",
    "        elif isinstance(module, nn.Embedding):\n",
    "            torch.nn.init.normal_(module.weight, mean=0.0, std=0.02)\n",
    "\n",
    "    '''前向计算函数'''\n",
    "\n",
    "    def forward(self, idx, targets=None):\n",
    "        # 输入为 idx，维度为 (batch size, sequence length, 1)；targets 为目标序列，用于计算 loss\n",
    "        device = idx.device\n",
    "        b, t = idx.size()\n",
    "        assert t <= self.args.block_size, f\"不能计算该序列，该序列长度为 {t}, 最大序列长度只有 {self.args.block_size}\"\n",
    "\n",
    "        # 通过 self.transformer\n",
    "        # 首先将输入 idx 通过 Embedding 层，得到维度为 (batch size, sequence length, n_embd)\n",
    "        print(\"idx\", idx.size())\n",
    "        # 通过 Embedding 层\n",
    "        tok_emb = self.transformer.wte(idx)\n",
    "        print(\"tok_emb\", tok_emb.size())\n",
    "        # 然后通过位置编码\n",
    "        pos_emb = self.transformer.wpe(tok_emb)\n",
    "        # 再进行 Dropout\n",
    "        x = self.transformer.drop(pos_emb)\n",
    "        # 然后通过 Encoder\n",
    "        print(\"x after wpe:\", x.size())\n",
    "        enc_out = self.transformer.encoder(x)\n",
    "        print(\"enc_out:\", enc_out.size())\n",
    "        # 再通过 Decoder\n",
    "        x = self.transformer.decoder(x, enc_out)\n",
    "        print(\"x after decoder:\", x.size())\n",
    "\n",
    "        if targets is not None:\n",
    "            # 训练阶段，如果我们给了 targets，就计算 loss\n",
    "            # 先通过最后的 Linear 层，得到维度为 (batch size, sequence length, vocab size)\n",
    "            logits = self.lm_head(x)\n",
    "            # 再跟 targets 计算交叉熵\n",
    "            loss = F.cross_entropy(logits.view(-1, logits.size(-1)), targets.view(-1), ignore_index=-1)\n",
    "        else:\n",
    "            # 推理阶段，我们只需要 logits，loss 为 None\n",
    "            # 取 -1 是只取序列中的最后一个作为输出\n",
    "            logits = self.lm_head(x[:, [-1], :])  # note: using list [-1] to preserve the time dim\n",
    "            loss = None\n",
    "\n",
    "        return logits, loss"
   ]
  }
 ],
 "metadata": {
  "kernelspec": {
   "display_name": "happy-llm-assignment",
   "language": "python",
   "name": "python3"
  },
  "language_info": {
   "name": "python",
   "version": "3.12.9"
  }
 },
 "nbformat": 4,
 "nbformat_minor": 5
}
